{
  "cells": [
    {
      "cell_type": "markdown",
      "metadata": {
        "id": "view-in-github",
        "colab_type": "text"
      },
      "source": [
        "<a href=\"https://colab.research.google.com/github/AdelinRovay/CSE_575_HW/blob/main/HW1_S_24.ipynb\" target=\"_parent\"><img src=\"https://colab.research.google.com/assets/colab-badge.svg\" alt=\"Open In Colab\"/></a>"
      ]
    },
    {
      "cell_type": "markdown",
      "id": "0201eef8",
      "metadata": {
        "id": "0201eef8"
      },
      "source": [
        "# Linear regression [9 pts]\n",
        "\n",
        "In this homework, you will implement solution algorithms for linear regression.\n",
        "\n",
        "\n",
        "## Import libraries\n",
        "Let's begin by importing some libraries."
      ]
    },
    {
      "cell_type": "code",
      "execution_count": null,
      "id": "5e93db53",
      "metadata": {
        "colab": {
          "base_uri": "https://localhost:8080/"
        },
        "id": "5e93db53",
        "outputId": "d9806d73-726a-4d38-885d-ed8967b4a1ef"
      },
      "outputs": [
        {
          "output_type": "stream",
          "name": "stdout",
          "text": [
            "Automatically created module for IPython interactive environment\n"
          ]
        }
      ],
      "source": [
        "print(__doc__)\n",
        "import matplotlib.pyplot as plt\n",
        "import numpy as np\n",
        "from sklearn import datasets\n",
        "%matplotlib inline"
      ]
    },
    {
      "cell_type": "markdown",
      "id": "3b7f958f",
      "metadata": {
        "id": "3b7f958f"
      },
      "source": [
        "## Load dataset\n",
        "\n",
        "Now, we are importing a dataset of diabetes. You can check the details on this dataset here: https://scikit-learn.org/stable/datasets/toy_dataset.html#diabetes-dataset.\n",
        "\n",
        "The dataset consists of 442 observations with 10 attributes ($X$) that may affect the progression of diabetes ($y$). Ten baseline variables, age, sex, body mass index, average blood pressure, and six blood serum measurements were obtained for each of $n$ = 442 diabetes patients, as well as the response of interest, a quantitative measure of disease progression one year after baseline."
      ]
    },
    {
      "cell_type": "code",
      "execution_count": null,
      "id": "45b7be6c",
      "metadata": {
        "colab": {
          "base_uri": "https://localhost:8080/"
        },
        "id": "45b7be6c",
        "outputId": "c40c714a-6c83-463d-9da6-3dd2f090e46a"
      },
      "outputs": [
        {
          "output_type": "stream",
          "name": "stdout",
          "text": [
            "The shape of the input features: (442, 10)\n",
            "The shape of the output varaible: (442,)\n"
          ]
        }
      ],
      "source": [
        "# Load the diabetes dataset\n",
        "diabetes_X, diabetes_y = datasets.load_diabetes(return_X_y=True)\n",
        "print('The shape of the input features:',diabetes_X.shape)\n",
        "print('The shape of the output varaible:',diabetes_y.shape)"
      ]
    },
    {
      "cell_type": "markdown",
      "id": "33d43652",
      "metadata": {
        "id": "33d43652"
      },
      "source": [
        "We will choose just one attribute from the ten attributes as an input variable."
      ]
    },
    {
      "cell_type": "code",
      "execution_count": null,
      "id": "333d01d6",
      "metadata": {
        "colab": {
          "base_uri": "https://localhost:8080/"
        },
        "id": "333d01d6",
        "outputId": "8302c265-96df-4f23-c9cd-32fd006d43d5"
      },
      "outputs": [
        {
          "output_type": "stream",
          "name": "stdout",
          "text": [
            "(442, 1)\n"
          ]
        }
      ],
      "source": [
        "# Use only one feature\n",
        "diabetes_X_one = diabetes_X[:, np.newaxis,2]\n",
        "print(diabetes_X_one.shape)"
      ]
    },
    {
      "cell_type": "markdown",
      "id": "2d5d51ee",
      "metadata": {
        "id": "2d5d51ee"
      },
      "source": [
        "## Dataset split\n",
        "\n",
        "Now, we split the dataset into two parts: training set and test set.\n",
        "\n",
        "- training set: 422 samples\n",
        "- test set: 20 samples"
      ]
    },
    {
      "cell_type": "code",
      "execution_count": null,
      "id": "3b1cadcc",
      "metadata": {
        "colab": {
          "base_uri": "https://localhost:8080/"
        },
        "id": "3b1cadcc",
        "outputId": "5386b911-2900-48f0-d8e6-ec7cbaa616b1"
      },
      "outputs": [
        {
          "output_type": "stream",
          "name": "stdout",
          "text": [
            "Training input variable shape: (422, 1)\n",
            "Test input variable shape: (20, 1)\n"
          ]
        }
      ],
      "source": [
        "# Split the data into training/testing sets\n",
        "diabetes_X_train = diabetes_X_one[:-20]\n",
        "diabetes_X_test = diabetes_X_one[-20:]\n",
        "\n",
        "# Split the targets into training/testing sets\n",
        "diabetes_y_train = diabetes_y[:-20]\n",
        "diabetes_y_test = diabetes_y[-20:]\n",
        "\n",
        "print('Training input variable shape:', diabetes_X_train.shape)\n",
        "print('Test input variable shape:', diabetes_X_test.shape)"
      ]
    },
    {
      "cell_type": "markdown",
      "id": "69db6e06",
      "metadata": {
        "id": "69db6e06"
      },
      "source": [
        "## Linear regression\n",
        "\n",
        "Assume that we have a hypothesis $$ h_{\\theta}(x) = \\theta_0 + \\theta_1 x. $$\n",
        "\n",
        "Your tasks:\n",
        "\n",
        "- [3pts] implement {your own version} of the method of least-squares, compute and report $\\theta_0$ and $\\theta_1$ that minimize the residual sum of squares, )\n",
        "$$ \\sum_{i=1}^{N} \\frac{1}{2}( y^{(i)} - h_{\\theta}(x^{(i)})^2$$\n",
        "\n",
        "[IMPORTANT] Do not just call the least square function from libraries, for example,\n",
        "scipy.optimize.least_squares from scipy. Doing so will result in 0 point. Using helping functions such as numpy.linalg.inv is okay.\n",
        "\n",
        "- [3pts] implement your own version of the gradient descent algorithm, compute and report $\\theta_0$ and $\\theta_1$ that minimize the mean squared error $$ \\sum_{i=1}^{N} \\frac{1}{N}( y^{(i)} - h_{\\theta}(x^{(i)})^2$$\n",
        "\n",
        "[NOTE] Notice that the loss function is mean-squared error.\n",
        "\n",
        "- [3pts] derive the analytical expression of the gradient if the loss is defined as\n",
        "$$ \\sum_{i=1}^{N} \\frac{1}{2}( y^{(i)} - h_{\\theta}(x^{(i)})^2 + \\frac{\\lambda}{2} \\| \\theta \\|_2^2, $$\n",
        "where $\\theta = [\\theta_0, \\theta_1]^{\\intercal}$\n",
        "\n",
        "To check whether your computation is correct, consider using an API such as Scikit learn linearregression."
      ]
    },
    {
      "cell_type": "markdown",
      "source": [
        "# Part 1: Method of least squares"
      ],
      "metadata": {
        "id": "8fPC1RXGSkuJ"
      },
      "id": "8fPC1RXGSkuJ"
    },
    {
      "cell_type": "code",
      "source": [
        "X0=np.ones(422)\n",
        "X1=np.transpose(diabetes_X_train)\n",
        "X=np.vstack((X0,X1))\n",
        "Xtrans=np.transpose(X)\n",
        "product1=np.matmul(X , diabetes_y_train)\n",
        "product2= np.matmul(X , Xtrans)\n",
        "product2inv= np.linalg.inv(product2)\n",
        "theta= np.matmul(product2inv , product1)\n"
      ],
      "metadata": {
        "id": "ytLh5O5wSvYy"
      },
      "id": "ytLh5O5wSvYy",
      "execution_count": null,
      "outputs": []
    },
    {
      "cell_type": "code",
      "source": [
        "print (\"theta0 :\",theta[0])\n",
        "print (\"theta1 :\",theta[1])"
      ],
      "metadata": {
        "colab": {
          "base_uri": "https://localhost:8080/"
        },
        "id": "p1MUJh4qbcOx",
        "outputId": "b1317083-25c7-44bd-d0ed-7bf3e3827c60"
      },
      "id": "p1MUJh4qbcOx",
      "execution_count": null,
      "outputs": [
        {
          "output_type": "stream",
          "name": "stdout",
          "text": [
            "theta0 : 152.91886182616113\n",
            "theta1 : 938.2378612513521\n"
          ]
        }
      ]
    },
    {
      "cell_type": "markdown",
      "source": [
        "#Part 2 : Linear Regression\n"
      ],
      "metadata": {
        "id": "B_HI_GxleXKv"
      },
      "id": "B_HI_GxleXKv"
    },
    {
      "cell_type": "code",
      "source": [
        "epochs=11000\n",
        "lr=0.45\n",
        "theta=np.zeros(2) #initialize weights to be 0\n",
        "for i in range (epochs):\n",
        "  output=np.dot(Xtrans,theta)\n",
        "  error=output-diabetes_y_train\n",
        "  loss=np.sum(error**2)/(2*422) #422 is number of test data rows\n",
        "  gradient=np.dot(X,error)/422\n",
        "  theta=theta-lr*gradient\n",
        "\n",
        "print (theta)"
      ],
      "metadata": {
        "colab": {
          "base_uri": "https://localhost:8080/"
        },
        "id": "ackB38LseeX0",
        "outputId": "65794c37-0c72-49ad-af65-0edf0bcd54e7"
      },
      "id": "ackB38LseeX0",
      "execution_count": null,
      "outputs": [
        {
          "output_type": "stream",
          "name": "stdout",
          "text": [
            "[152.91886781 938.22523304]\n"
          ]
        }
      ]
    }
  ],
  "metadata": {
    "kernelspec": {
      "display_name": "Python 3 (ipykernel)",
      "language": "python",
      "name": "python3"
    },
    "language_info": {
      "codemirror_mode": {
        "name": "ipython",
        "version": 3
      },
      "file_extension": ".py",
      "mimetype": "text/x-python",
      "name": "python",
      "nbconvert_exporter": "python",
      "pygments_lexer": "ipython3",
      "version": "3.7.2"
    },
    "colab": {
      "provenance": [],
      "include_colab_link": true
    }
  },
  "nbformat": 4,
  "nbformat_minor": 5
}